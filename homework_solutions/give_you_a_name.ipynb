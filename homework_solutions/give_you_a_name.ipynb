{
 "cells": [
  {
   "cell_type": "code",
   "execution_count": 1,
   "metadata": {},
   "outputs": [],
   "source": [
    "from us_names import SURNAMES, FEMALE_NAMES, MALE_NAMES"
   ]
  },
  {
   "cell_type": "code",
   "execution_count": 2,
   "metadata": {},
   "outputs": [
    {
     "data": {
      "text/plain": [
       "88799"
      ]
     },
     "execution_count": 2,
     "metadata": {},
     "output_type": "execute_result"
    }
   ],
   "source": [
    "len(SURNAMES)"
   ]
  },
  {
   "cell_type": "code",
   "execution_count": 3,
   "metadata": {
    "scrolled": false
   },
   "outputs": [
    {
     "name": "stdout",
     "output_type": "stream",
     "text": [
      "What is your gender (m/f)?bro\n"
     ]
    }
   ],
   "source": [
    "# Just trying out a few things\n",
    "gender = input('What is your gender (m/f)?')"
   ]
  },
  {
   "cell_type": "code",
   "execution_count": 4,
   "metadata": {},
   "outputs": [
    {
     "name": "stdout",
     "output_type": "stream",
     "text": [
      "bro\n"
     ]
    }
   ],
   "source": [
    "print(gender)"
   ]
  },
  {
   "cell_type": "code",
   "execution_count": 5,
   "metadata": {
    "scrolled": true
   },
   "outputs": [
    {
     "name": "stdout",
     "output_type": "stream",
     "text": [
      "What is your gender (m/f)?bro\n",
      "What is your gender (m/f)?m\n"
     ]
    }
   ],
   "source": [
    "# Making sure that we get a valid choice \n",
    "while True:\n",
    "    gender = input('What is your gender (m/f)?')\n",
    "    if gender == 'm' or gender == 'f':\n",
    "        break"
   ]
  },
  {
   "cell_type": "code",
   "execution_count": 6,
   "metadata": {},
   "outputs": [
    {
     "name": "stdout",
     "output_type": "stream",
     "text": [
      "m\n"
     ]
    }
   ],
   "source": [
    "print(gender)"
   ]
  },
  {
   "cell_type": "code",
   "execution_count": 7,
   "metadata": {},
   "outputs": [
    {
     "name": "stdout",
     "output_type": "stream",
     "text": [
      "Pick a number! Any number! But it must be between 0 and 88799666\n",
      "What is your gender (m/f)?m\n",
      "Your new name is: Truman Winters. Congratulations!\n"
     ]
    }
   ],
   "source": [
    "import random\n",
    "\n",
    "# There's a lot of surnames in that list \n",
    "# The user gets to choose the index of the last name\n",
    "surname_index = int(input('Pick a number! Any number! But it must be between 0 and 88799'))\n",
    "while True:\n",
    "    gender = input('What is your gender (m/f)?')\n",
    "    if gender == 'm':\n",
    "        # Choose a random name from the list\n",
    "        first_name = random.choice(MALE_NAMES)\n",
    "        # Choose a surname based on the number given\n",
    "        last_name = SURNAMES[surname_index]\n",
    "        print('Your new name is: ' + first_name + ' ' + last_name + '. Congratulations!')\n",
    "        # Finish the while loop \n",
    "        break\n",
    "    if gender == 'f':\n",
    "        first_name = random.choice(FEMALE_NAMES)\n",
    "        last_name = SURNAMES[surname_index]\n",
    "        print('Your new name is: ' + first_name + ' ' + last_name + '. Congratulations!')\n",
    "        break"
   ]
  },
  {
   "cell_type": "code",
   "execution_count": 8,
   "metadata": {},
   "outputs": [
    {
     "name": "stdout",
     "output_type": "stream",
     "text": [
      "Rikki Petula\n",
      "Desmond Bee\n",
      "Tommy Norrix\n",
      "Kip Mccandliss\n"
     ]
    }
   ],
   "source": [
    "import random\n",
    "\n",
    "for i in [0, 1]:\n",
    "    last_name_index = random.randint(0, len(SURNAMES))\n",
    "    female_index = random.randint(0, len(FEMALE_NAMES))\n",
    "    print(FEMALE_NAMES[female_index] + ' ' + SURNAMES[last_name_index])\n",
    "    last_name_index = random.randint(0, len(SURNAMES))\n",
    "    male_index = random.randint(0, len(MALE_NAMES))\n",
    "    print(MALE_NAMES[male_index] + ' ' + SURNAMES[last_name_index])"
   ]
  }
 ],
 "metadata": {
  "kernelspec": {
   "display_name": "Python 3",
   "language": "python",
   "name": "python3"
  },
  "language_info": {
   "codemirror_mode": {
    "name": "ipython",
    "version": 3
   },
   "file_extension": ".py",
   "mimetype": "text/x-python",
   "name": "python",
   "nbconvert_exporter": "python",
   "pygments_lexer": "ipython3",
   "version": "3.6.5"
  }
 },
 "nbformat": 4,
 "nbformat_minor": 2
}
