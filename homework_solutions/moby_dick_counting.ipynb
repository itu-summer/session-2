{
 "cells": [
  {
   "cell_type": "code",
   "execution_count": null,
   "metadata": {
    "collapsed": true
   },
   "outputs": [],
   "source": [
    "from moby_dick import CHAPTER_1"
   ]
  },
  {
   "cell_type": "code",
   "execution_count": null,
   "metadata": {},
   "outputs": [],
   "source": [
    "print(type(CHAPTER_1))\n",
    "print(CHAPTER_1)"
   ]
  },
  {
   "cell_type": "code",
   "execution_count": null,
   "metadata": {},
   "outputs": [],
   "source": [
    "print(type(CHAPTER_1[0]))\n",
    "print(CHAPTER_1[0])"
   ]
  },
  {
   "cell_type": "code",
   "execution_count": null,
   "metadata": {},
   "outputs": [],
   "source": [
    "print(CHAPTER_1[0][0])"
   ]
  },
  {
   "cell_type": "code",
   "execution_count": null,
   "metadata": {},
   "outputs": [],
   "source": [
    "# print the two first characters of the first paragraph\n",
    "print(CHAPTER_1[0][0:2])"
   ]
  },
  {
   "cell_type": "markdown",
   "metadata": {},
   "source": [
    "The chapter seems to be a list of strings, each string a paragraph with multiple sentences and lines.\n",
    "So the number of paragraphs in a chapter must be the number of elements in the list. "
   ]
  },
  {
   "cell_type": "code",
   "execution_count": null,
   "metadata": {
    "collapsed": true
   },
   "outputs": [],
   "source": [
    "len(CHAPTER_1)"
   ]
  },
  {
   "cell_type": "markdown",
   "metadata": {},
   "source": [
    "Replacing the name is a bit more tricky. But Ishmael begins somewhere and ends somewhere. "
   ]
  },
  {
   "cell_type": "code",
   "execution_count": null,
   "metadata": {},
   "outputs": [],
   "source": [
    "new_paragraph = CHAPTER_1[0][:8] + 'a wonderful teaching assistant' + CHAPTER_1[0][15:]\n",
    "print(new_paragraph)"
   ]
  },
  {
   "cell_type": "markdown",
   "metadata": {},
   "source": [
    "We can alternately use the .split() method to split a string into a list."
   ]
  },
  {
   "cell_type": "code",
   "execution_count": null,
   "metadata": {
    "collapsed": true
   },
   "outputs": [],
   "source": [
    "CHAPTER_1[0].split()"
   ]
  },
  {
   "cell_type": "markdown",
   "metadata": {},
   "source": [
    "Looking throught the list we see that Ishmael is there once and in the third index."
   ]
  },
  {
   "cell_type": "code",
   "execution_count": null,
   "metadata": {
    "collapsed": true
   },
   "outputs": [],
   "source": [
    "split_paragraph = CHAPTER_1[0].split()\n",
    "split_paragraph[2] = 'a wonderful teaching assistant.'\n",
    "print(split_paragraph)\n",
    "joined_paragraph = \" \".join(split_paragraph)\n",
    "print(joined_paragraph)"
   ]
  },
  {
   "cell_type": "markdown",
   "metadata": {},
   "source": [
    "Now this is cool but we lost the newlines when we split on all the whitespace. And it's not generalisable - with this approach we have to look at each paragraph and find out what index \"Ishmael\" has.  \n",
    "Instead we could find the strings on each side of Ishmael."
   ]
  },
  {
   "cell_type": "code",
   "execution_count": null,
   "metadata": {
    "collapsed": true
   },
   "outputs": [],
   "source": [
    "CHAPTER_1[0].split('Ishmael')"
   ]
  },
  {
   "cell_type": "code",
   "execution_count": null,
   "metadata": {
    "collapsed": true
   },
   "outputs": [],
   "source": [
    "split_paragraph = CHAPTER_1[0].split('Ishmael')\n",
    "'a wonderful teaching assistant.'.join(split_paragraph)"
   ]
  },
  {
   "cell_type": "code",
   "execution_count": null,
   "metadata": {
    "collapsed": true
   },
   "outputs": [],
   "source": [
    "# Nicer \n",
    "split_paragraph = CHAPTER_1[0].split('Ishmael')\n",
    "print('a wonderful teaching assistant.'.join(split_paragraph))"
   ]
  },
  {
   "cell_type": "code",
   "execution_count": null,
   "metadata": {
    "collapsed": true
   },
   "outputs": [],
   "source": [
    "# Single line \n",
    "print('a wonderful teaching assistant.'.join(CHAPTER_1[0].split('Ishmael')))\n",
    "# This gets very confusing and is generally discouraged "
   ]
  },
  {
   "cell_type": "code",
   "execution_count": null,
   "metadata": {
    "collapsed": true
   },
   "outputs": [],
   "source": [
    "# like the .split() and .join() methods strings also have a .replace() method\n",
    "print(CHAPTER_1[0].replace('Ishmael', 'a cheating teaching assistant'))"
   ]
  },
  {
   "cell_type": "markdown",
   "metadata": {},
   "source": [
    "### Count the words in the first paragraph"
   ]
  },
  {
   "cell_type": "code",
   "execution_count": null,
   "metadata": {
    "collapsed": true
   },
   "outputs": [],
   "source": [
    "# Same as before - the .split() method for strings lets us make a list where each element is a word.  \n",
    "# When there's nothing in the brackets .split() works on whitespace\n",
    "# Whitespace is spaces, tabs, newlines etc. Not punctuation. \n",
    "len(CHAPTER_1[0].split())"
   ]
  },
  {
   "cell_type": "code",
   "execution_count": null,
   "metadata": {
    "collapsed": true
   },
   "outputs": [],
   "source": []
  }
 ],
 "metadata": {
  "kernelspec": {
   "display_name": "Python 2",
   "language": "python",
   "name": "python2"
  },
  "language_info": {
   "codemirror_mode": {
    "name": "ipython",
    "version": 2
   },
   "file_extension": ".py",
   "mimetype": "text/x-python",
   "name": "python",
   "nbconvert_exporter": "python",
   "pygments_lexer": "ipython2",
   "version": "2.7.14"
  }
 },
 "nbformat": 4,
 "nbformat_minor": 2
}
