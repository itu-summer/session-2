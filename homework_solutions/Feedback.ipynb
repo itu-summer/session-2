{
 "cells": [
  {
   "cell_type": "markdown",
   "metadata": {
    "slideshow": {
     "slide_type": "slide"
    }
   },
   "source": [
    "# A note on values and variables"
   ]
  },
  {
   "cell_type": "code",
   "execution_count": 18,
   "metadata": {
    "slideshow": {
     "slide_type": "subslide"
    }
   },
   "outputs": [],
   "source": [
    "my_text = 'This is a very very very long string'"
   ]
  },
  {
   "cell_type": "code",
   "execution_count": 21,
   "metadata": {
    "slideshow": {
     "slide_type": "fragment"
    }
   },
   "outputs": [
    {
     "data": {
      "text/plain": [
       "10"
      ]
     },
     "execution_count": 21,
     "metadata": {},
     "output_type": "execute_result"
    }
   ],
   "source": [
    "my_text.index('very')"
   ]
  },
  {
   "cell_type": "code",
   "execution_count": 20,
   "metadata": {},
   "outputs": [
    {
     "data": {
      "text/plain": [
       "'v'"
      ]
     },
     "execution_count": 20,
     "metadata": {},
     "output_type": "execute_result"
    }
   ],
   "source": [
    "my_text[index_of_very]"
   ]
  },
  {
   "cell_type": "code",
   "execution_count": null,
   "metadata": {
    "slideshow": {
     "slide_type": "subslide"
    }
   },
   "outputs": [],
   "source": [
    "SURNAMES = ['Smith', 'Johnson', 'Williams', 'Jones', 'Brown', 'Davis']\n",
    "my_names = SURNAMES "
   ]
  },
  {
   "cell_type": "markdown",
   "metadata": {
    "slideshow": {
     "slide_type": "fragment"
    }
   },
   "source": [
    "See a visualization of the above here: https://goo.gl/6wSLxZ"
   ]
  },
  {
   "cell_type": "markdown",
   "metadata": {
    "slideshow": {
     "slide_type": "slide"
    }
   },
   "source": [
    "# Replacing 'Ishmael'\n",
    "\n",
    "Before you start: what is `CHAPTER_1`?"
   ]
  },
  {
   "cell_type": "code",
   "execution_count": 22,
   "metadata": {
    "slideshow": {
     "slide_type": "subslide"
    }
   },
   "outputs": [],
   "source": [
    "from moby_dick import CHAPTER_1"
   ]
  },
  {
   "cell_type": "code",
   "execution_count": 25,
   "metadata": {
    "slideshow": {
     "slide_type": "subslide"
    }
   },
   "outputs": [
    {
     "name": "stdout",
     "output_type": "stream",
     "text": [
      "Call me Ishmael. Some years ago-never mind how long precisely-having\n",
      "little or no money in my purse, and nothing particular to interest me\n",
      "on shore, I thought I would sail about a little and see the watery part\n",
      "of the world. It is a way I have of driving off the spleen and\n",
      "regulating the circulation. Whenever I find myself growing grim about\n",
      "the mouth; whenever it is a damp, drizzly November in my soul; whenever\n",
      "I find myself involuntarily pausing before coffin warehouses, and\n",
      "bringing up the rear of every funeral I meet; and especially whenever\n",
      "my hypos get such an upper hand of me, that it requires a strong moral\n",
      "principle to prevent me from deliberately stepping into the street, and\n",
      "methodically knocking people's hats off-then, I account it high time to\n",
      "get to sea as soon as I can. This is my substitute for pistol and ball.\n",
      "With a philosophical flourish Cato throws himself upon his sword; I\n",
      "quietly take to the ship. There is nothing surprising in this. If they\n",
      "but knew it, almost all men in their degree, some time or other,\n",
      "cherish very nearly the same feelings towards the ocean with me.\n"
     ]
    }
   ],
   "source": [
    "len(CHAPTER_1)\n",
    "print(CHAPTER_1[0])"
   ]
  },
  {
   "cell_type": "markdown",
   "metadata": {
    "slideshow": {
     "slide_type": "subslide"
    }
   },
   "source": [
    "## Solution 1: String index"
   ]
  },
  {
   "cell_type": "code",
   "execution_count": 33,
   "metadata": {
    "slideshow": {
     "slide_type": "subslide"
    }
   },
   "outputs": [
    {
     "data": {
      "text/plain": [
       "\"Call me Jamie Lannister. Some years ago-never mind how long precisely-having\\nlittle or no money in my purse, and nothing particular to interest me\\non shore, I thought I would sail about a little and see the watery part\\nof the world. It is a way I have of driving off the spleen and\\nregulating the circulation. Whenever I find myself growing grim about\\nthe mouth; whenever it is a damp, drizzly November in my soul; whenever\\nI find myself involuntarily pausing before coffin warehouses, and\\nbringing up the rear of every funeral I meet; and especially whenever\\nmy hypos get such an upper hand of me, that it requires a strong moral\\nprinciple to prevent me from deliberately stepping into the street, and\\nmethodically knocking people's hats off-then, I account it high time to\\nget to sea as soon as I can. This is my substitute for pistol and ball.\\nWith a philosophical flourish Cato throws himself upon his sword; I\\nquietly take to the ship. There is nothing surprising in this. If they\\nbut knew it, almost all men in their degree, some time or other,\\ncherish very nearly the same feelings towards the ocean with me.\""
      ]
     },
     "execution_count": 33,
     "metadata": {},
     "output_type": "execute_result"
    }
   ],
   "source": [
    "CHAPTER_1[0][0:8] + 'Jamie Lannister' + CHAPTER_1[0][15:]"
   ]
  },
  {
   "cell_type": "code",
   "execution_count": null,
   "metadata": {
    "slideshow": {
     "slide_type": "subslide"
    }
   },
   "outputs": [],
   "source": []
  },
  {
   "cell_type": "markdown",
   "metadata": {
    "slideshow": {
     "slide_type": "subslide"
    }
   },
   "source": [
    "## Solution 2: Splitting and joining"
   ]
  },
  {
   "cell_type": "code",
   "execution_count": 39,
   "metadata": {
    "slideshow": {
     "slide_type": "subslide"
    }
   },
   "outputs": [
    {
     "name": "stdout",
     "output_type": "stream",
     "text": [
      "Call me John Doe Some years ago-never mind how long precisely-having little or no money in my purse, and nothing particular to interest me on shore, I thought I would sail about a little and see the watery part of the world. It is a way I have of driving off the spleen and regulating the circulation. Whenever I find myself growing grim about the mouth; whenever it is a damp, drizzly November in my soul; whenever I find myself involuntarily pausing before coffin warehouses, and bringing up the rear of every funeral I meet; and especially whenever my hypos get such an upper hand of me, that it requires a strong moral principle to prevent me from deliberately stepping into the street, and methodically knocking people's hats off-then, I account it high time to get to sea as soon as I can. This is my substitute for pistol and ball. With a philosophical flourish Cato throws himself upon his sword; I quietly take to the ship. There is nothing surprising in this. If they but knew it, almost all men in their degree, some time or other, cherish very nearly the same feelings towards the ocean with me.\n"
     ]
    }
   ],
   "source": [
    "split_paragraph = CHAPTER_1[0].split()\n",
    "split_paragraph[2] = 'John Doe'\n",
    "print(' '.join(split_paragraph))"
   ]
  },
  {
   "cell_type": "markdown",
   "metadata": {
    "slideshow": {
     "slide_type": "subslide"
    }
   },
   "source": [
    "## Solution 3: Splitting and looping"
   ]
  },
  {
   "cell_type": "code",
   "execution_count": null,
   "metadata": {
    "slideshow": {
     "slide_type": "subslide"
    }
   },
   "outputs": [],
   "source": [
    "for word in firstlist:\n",
    "    if 'Ishmael' in word:\n",
    "         newparagraph = newparagraph + 'Dude '\n",
    "    else:\n",
    "        newparagraph = newparagraph + word + ' '\n",
    "print(newparagraph)"
   ]
  },
  {
   "cell_type": "markdown",
   "metadata": {
    "slideshow": {
     "slide_type": "subslide"
    }
   },
   "source": [
    "## Solution 4: Replacing"
   ]
  },
  {
   "cell_type": "code",
   "execution_count": 41,
   "metadata": {
    "slideshow": {
     "slide_type": "subslide"
    }
   },
   "outputs": [
    {
     "data": {
      "text/plain": [
       "\"Call me Daenarys Targeryan. Some years ago-never mind how long precisely-having\\nlittle or no money in my purse, and nothing particular to interest me\\non shore, I thought I would sail about a little and see the watery part\\nof the world. It is a way I have of driving off the spleen and\\nregulating the circulation. Whenever I find myself growing grim about\\nthe mouth; whenever it is a damp, drizzly November in my soul; whenever\\nI find myself involuntarily pausing before coffin warehouses, and\\nbringing up the rear of every funeral I meet; and especially whenever\\nmy hypos get such an upper hand of me, that it requires a strong moral\\nprinciple to prevent me from deliberately stepping into the street, and\\nmethodically knocking people's hats off-then, I account it high time to\\nget to sea as soon as I can. This is my substitute for pistol and ball.\\nWith a philosophical flourish Cato throws himself upon his sword; I\\nquietly take to the ship. There is nothing surprising in this. If they\\nbut knew it, almost all men in their degree, some time or other,\\ncherish very nearly the same feelings towards the ocean with me.\""
      ]
     },
     "execution_count": 41,
     "metadata": {},
     "output_type": "execute_result"
    }
   ],
   "source": [
    "s = ''\n",
    "s.replace?\n",
    "CHAPTER_1[0].replace('Ishmael', 'Daenarys Targeryan')"
   ]
  },
  {
   "cell_type": "markdown",
   "metadata": {
    "slideshow": {
     "slide_type": "slide"
    }
   },
   "source": [
    "# Creating names"
   ]
  },
  {
   "cell_type": "code",
   "execution_count": 42,
   "metadata": {
    "slideshow": {
     "slide_type": "subslide"
    }
   },
   "outputs": [],
   "source": [
    "from us_names import SURNAMES, FEMALE_NAMES, MALE_NAMES"
   ]
  },
  {
   "cell_type": "code",
   "execution_count": 78,
   "metadata": {
    "slideshow": {
     "slide_type": "subslide"
    }
   },
   "outputs": [
    {
     "name": "stdout",
     "output_type": "stream",
     "text": [
      "Tish\n",
      "Malena\n"
     ]
    }
   ],
   "source": [
    "print(FEMALE_NAMES[4100])\n",
    "import random\n",
    "print(random.choice(FEMALE_NAMES))"
   ]
  },
  {
   "cell_type": "code",
   "execution_count": 87,
   "metadata": {
    "slideshow": {
     "slide_type": "slide"
    }
   },
   "outputs": [
    {
     "name": "stdout",
     "output_type": "stream",
     "text": [
      "Tish Anderson\n"
     ]
    }
   ],
   "source": [
    "from us_names import SURNAMES, FEMALE_NAMES, MALE_NAMES\n",
    "\n",
    "def generate_name(name, surname):\n",
    "    female_name = name\n",
    "    surname = surname\n",
    "    female_name_index = FEMALE_NAMES.index(female_name)\n",
    "    surname_index = SURNAMES.index(surname)\n",
    "    print(FEMALE_NAMES[female_name_index] + ' ' + SURNAMES[surname_index])\n",
    "\n",
    "def generate_something_else(data):\n",
    "    print(data)\n"
   ]
  }
 ],
 "metadata": {
  "celltoolbar": "Slideshow",
  "kernelspec": {
   "display_name": "Python 3",
   "language": "python",
   "name": "python3"
  },
  "language_info": {
   "codemirror_mode": {
    "name": "ipython",
    "version": 3
   },
   "file_extension": ".py",
   "mimetype": "text/x-python",
   "name": "python",
   "nbconvert_exporter": "python",
   "pygments_lexer": "ipython3",
   "version": "3.6.4"
  }
 },
 "nbformat": 4,
 "nbformat_minor": 2
}
