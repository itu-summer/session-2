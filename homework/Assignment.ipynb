{
 "cells": [
  {
   "cell_type": "markdown",
   "metadata": {},
   "source": [
    "# Working with text\n",
    "\n",
    "For the next assignment you will need the variable `CHAPTER_1`:"
   ]
  },
  {
   "cell_type": "code",
   "execution_count": 18,
   "metadata": {},
   "outputs": [],
   "source": [
    "from moby_dick import CHAPTER_1"
   ]
  },
  {
   "cell_type": "markdown",
   "metadata": {},
   "source": [
    "Don't worry about not completely understanding the code. We will explain it later. Try to print out one of the chapters. What does it contain? "
   ]
  },
  {
   "cell_type": "markdown",
   "metadata": {},
   "source": [
    "Seriously, try to print it. And play around with it a bit. Can you get the first 2 characters in the first paragraph?"
   ]
  },
  {
   "cell_type": "code",
   "execution_count": null,
   "metadata": {},
   "outputs": [],
   "source": []
  },
  {
   "cell_type": "markdown",
   "metadata": {},
   "source": [
    "## Assignment 1/2\n",
    "\n",
    "Here goes the first part of the assignment:\n",
    "\n",
    "* How many paragraphs are there in the first chapter?\n",
    "* 'Personalize' the first paragraph of Moby Dick, by inserting your own name instead of `'Ishmael'`\n",
    "  * Hint: Use list operations to extract the characters you need\n",
    "* Count the number of words in first paragraph of Moby Dick"
   ]
  },
  {
   "cell_type": "markdown",
   "metadata": {},
   "source": [
    "## Assignment 2/2\n",
    "\n",
    "For this part you'll need the following three variables:"
   ]
  },
  {
   "cell_type": "code",
   "execution_count": 1,
   "metadata": {},
   "outputs": [],
   "source": [
    "from us_names import SURNAMES, FEMALE_NAMES, MALE_NAMES\n",
    "\n",
    "\n",
    "print(...)"
   ]
  },
  {
   "cell_type": "markdown",
   "metadata": {},
   "source": [
    "Like before, try to print them out and play with them. Do you understand what they consist of?"
   ]
  },
  {
   "cell_type": "markdown",
   "metadata": {},
   "source": [
    "Here's your assignment:\n",
    "* Write a program that creates 4 valid US American names. Of these 4 names are 2 female and 2 male names. A valid name has the form `<name> <surname>`, such as, `Shayla Maeda` or `Hipolito Crytser`. Open the file `us_names.py` and find some names you like. Your job is to retrieve those names from the variables above and print them.\n",
    "  * Hint: To form a name you need to lookup the name (gendered name + surname) in your variables"
   ]
  },
  {
   "cell_type": "markdown",
   "metadata": {},
   "source": [
    "## Assignment 3/2\n",
    "\n",
    "If you're feeling adventurous, here are some more stuff to work on:\n",
    "\n",
    "  * Create a program that asks the user for a gender (F/M) and a number (between 0 and 88799) and use that input to print a name to the user\n",
    "  * The code below generates a random number between 0 and 10. Use that code to rewrite your program in assignment 2/2, so you pick the 4 generated names completely at random\n",
    "    * Hint: You will have to change the range of random choices (currently: 0 to 10) to something else"
   ]
  },
  {
   "cell_type": "code",
   "execution_count": null,
   "metadata": {},
   "outputs": [],
   "source": [
    "import random\n",
    "\n",
    "\n",
    "random.randint(0, 10)"
   ]
  }
 ],
 "metadata": {
  "kernelspec": {
   "display_name": "Python 3",
   "language": "python",
   "name": "python3"
  },
  "language_info": {
   "codemirror_mode": {
    "name": "ipython",
    "version": 3
   },
   "file_extension": ".py",
   "mimetype": "text/x-python",
   "name": "python",
   "nbconvert_exporter": "python",
   "pygments_lexer": "ipython3",
   "version": "3.6.4"
  }
 },
 "nbformat": 4,
 "nbformat_minor": 2
}
